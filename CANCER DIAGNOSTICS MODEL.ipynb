{
 "cells": [
  {
   "cell_type": "code",
   "execution_count": 1,
   "metadata": {
    "collapsed": false
   },
   "outputs": [
    {
     "name": "stderr",
     "output_type": "stream",
     "text": [
      "Using TensorFlow backend.\n"
     ]
    }
   ],
   "source": [
    "# Packages to be used\n",
    "\n",
    "import numpy as np\n",
    "import pandas as pd\n",
    "import glob\n",
    "import time\n",
    "import datetime\n",
    "\n",
    "from PIL import ImageFilter, ImageStat, Image, ImageDraw\n",
    "import matplotlib.pyplot as plt\n",
    "import seaborn as sns\n",
    "#%matplotlib inline\n",
    "import cv2\n",
    "\n",
    "from multiprocessing import Pool, cpu_count\n",
    "\n",
    "from sklearn.utils import shuffle\n",
    "from sklearn.model_selection import GridSearchCV, StratifiedKFold, cross_val_score\n",
    "from sklearn.preprocessing import LabelEncoder\n",
    "from sklearn.metrics import log_loss\n",
    "from sklearn.utils import class_weight\n",
    "\n",
    "from keras.wrappers.scikit_learn import KerasClassifier\n",
    "from keras.models import Sequential\n",
    "from keras.layers.core import Dense, Dropout, Flatten\n",
    "from keras.layers.convolutional import Convolution2D, ZeroPadding2D, MaxPooling2D\n",
    "from keras.optimizers import SGD, Adam, RMSprop, Nadam, Adagrad, Adamax, TFOptimizer, Adadelta, TFOptimizer\n",
    "from keras import optimizers\n",
    "from keras.utils import np_utils\n",
    "from keras import backend as K\n",
    "from keras.callbacks import EarlyStopping, ModelCheckpoint, TensorBoard \n",
    "from keras.regularizers import l2, activity_l2, l1, l1l2, activity_l1, activity_l1l2 \n",
    "\n",
    "from keras import __version__ as keras_version             \n"
   ]
  },
  {
   "cell_type": "code",
   "execution_count": 3,
   "metadata": {
    "collapsed": false
   },
   "outputs": [
    {
     "name": "stdout",
     "output_type": "stream",
     "text": [
      "8134\n",
      "8134\n",
      "512\n"
     ]
    }
   ],
   "source": [
    "# Data loading and shuffling\n",
    "train_data = np.load('../deep/cancer/inputs/train.npy')\n",
    "train_target = np.load('../deep/cancer/inputs/train_target4.npy')\n",
    "train_id = np.load('../deep/cancer/inputs/train_id2.npy')\n",
    "test_data = np.load('../deep/cancer/inputs/test2.npy')\n",
    "test_id = np.load('../deep/cancer/inputs/test_id.npy')\n",
    "train_target = np_utils.to_categorical(train_target, 3)\n",
    "\n",
    "train_data = shuffle(train_data)\n",
    "train_target = shuffle(train_target)\n",
    "test_data = shuffle(test_data)\n",
    "\n",
    "print(len(train_data))\n",
    "print(len(train_target))\n",
    "print(len(test_data))"
   ]
  },
  {
   "cell_type": "code",
   "execution_count": 4,
   "metadata": {
    "collapsed": true
   },
   "outputs": [],
   "source": [
    "# parameters used in model \n",
    "early_stopping = EarlyStopping(monitor='val_loss', patience=20)\n",
    "now = datetime.datetime.now()\n",
    "checkpointer = ModelCheckpoint(filepath=\"weights/\"'checkpointer_' + '_' + str(now.strftime(\"%Y-%m-%d-%H-%M\")) + '.hdf5', verbose=1, save_best_only=True)\n",
    "#class_weight = class_weight.compute_class_weight('balanced', np.unique(train_target), train_target)\n",
    "\n",
    "### image dimensions\n",
    "num_channels = 3\n",
    "imageSize = (64, 64)\n",
    "img_width, img_height = imageSize[0], imageSize[1]\n"
   ]
  },
  {
   "cell_type": "code",
   "execution_count": null,
   "metadata": {
    "collapsed": true
   },
   "outputs": [],
   "source": [
    "# Actual\n",
    "def create_model():\n",
    "    wr1 = 1e-04\n",
    "    wr2 = 1e-04\n",
    "    wr3 = 1e-03\n",
    "    wr4 = 1e-03\n",
    "    wr5 = 1e-03\n",
    "\n",
    "    activation = 'relu'\n",
    "    optimizer = 'sgd'\n",
    "     \n",
    "    model = Sequential()\n",
    "    model.add(ZeroPadding2D((1, 1), input_shape=(num_channels, img_width, img_height), dim_ordering='tf'))\n",
    "    model.add(Convolution2D(64, 3, 3, activation=activation, dim_ordering='tf', W_regularizer=l1l2(wr1), activity_regularizer=activity_l2(wr1), init='lecun_uniform'))\n",
    "    #model.add(ZeroPadding2D((1, 1), dim_ordering='tf'))\n",
    "    #model.add(Convolution2D(32, 3, 3, activation=activation, dim_ordering='tf', W_regularizer=l1l2(wr1), activity_regularizer=activity_l2(wr1), init='lecun_uniform'))\n",
    "    model.add(MaxPooling2D(pool_size=(2, 2), strides=(2, 2), dim_ordering='tf'))\n",
    "    model.add(Dropout(0.85))\n",
    "\n",
    "    \"\"\"\n",
    "    model.add(ZeroPadding2D((1, 1), dim_ordering='tf'))\n",
    "    model.add(Convolution2D(64, 3, 3, activation=activation, dim_ordering='tf', W_regularizer=l1l2(wr2), activity_regularizer=activity_l2(wr2), init='lecun_uniform'))\n",
    "    model.add(ZeroPadding2D((1, 1), dim_ordering='tf'))\n",
    "    model.add(Convolution2D(128, 3, 3, activation=activation, dim_ordering='tf', W_regularizer=l1l2(wr2), activity_regularizer=activity_l2(wr2), init='lecun_uniform'))\n",
    "    #model.add(MaxPooling2D(pool_size=(2, 2), strides=(2, 2), dim_ordering='tf'))\n",
    "    model.add(Dropout(0.85))\n",
    "\n",
    "    model.add(ZeroPadding2D((1, 1), dim_ordering='tf'))\n",
    "    model.add(Convolution2D(64, 3, 3, activation=activation, dim_ordering='tf', W_regularizer=l1(wr3), activity_regularizer=activity_l1(wr3), init='lecun_uniform'))\n",
    "    model.add(ZeroPadding2D((1, 1), dim_ordering='tf'))\n",
    "    model.add(Convolution2D(64, 3, 3, activation=activation, dim_ordering='tf', W_regularizer=l1(wr3), activity_regularizer=activity_l1(wr3), init='lecun_uniform'))\n",
    "    model.add(ZeroPadding2D((1, 1), dim_ordering='tf'))\n",
    "    model.add(Convolution2D(128, 3, 3, activation=activation, dim_ordering='tf', W_regularizer=l1(wr3), activity_regularizer=activity_l1(wr3), init='lecun_uniform'))\n",
    "    #model.add(MaxPooling2D((2, 2), strides=(2, 2), dim_ordering='tf'))\n",
    "    model.add(Dropout(0.85))\n",
    "    \n",
    "    model.add(ZeroPadding2D((1, 1), dim_ordering='tf'))\n",
    "    model.add(Convolution2D(128, 3, 3, activation=activation, dim_ordering='tf', W_regularizer=l1(wr4), activity_regularizer=activity_l1(wr4), init='lecun_uniform'))\n",
    "    model.add(ZeroPadding2D((1, 1), dim_ordering='tf'))\n",
    "    model.add(Convolution2D(256, 3, 3, activation=activation, dim_ordering='tf', W_regularizer=l1(wr4), activity_regularizer=activity_l1(wr4), init='lecun_uniform'))\n",
    "    model.add(ZeroPadding2D((1, 1), dim_ordering='tf'))\n",
    "    model.add(Convolution2D(256, 3, 3, activation=activation, dim_ordering='tf', W_regularizer=l1(wr4), activity_regularizer=activity_l1(wr4), init='lecun_uniform'))\n",
    "    #model.add(MaxPooling2D((2, 2), strides=(2, 2), dim_ordering='tf'))\n",
    "    model.add(Dropout(0.95))\n",
    "\n",
    "    model.add(ZeroPadding2D((1, 1), dim_ordering='tf'))\n",
    "    model.add(Convolution2D(128, 3, 3, activation=activation, dim_ordering='tf', W_regularizer=l1(wr5), activity_regularizer=activity_l1(wr5), init='lecun_uniform'))\n",
    "    model.add(ZeroPadding2D((1, 1), dim_ordering='tf'))\n",
    "    model.add(Convolution2D(256, 3, 3, activation=activation, dim_ordering='tf', W_regularizer=l1(wr5), activity_regularizer=activity_l1(wr5), init='lecun_uniform'))\n",
    "    model.add(ZeroPadding2D((1, 1), dim_ordering='tf'))\n",
    "    model.add(Convolution2D(256, 3, 3, activation=activation, dim_ordering='tf', W_regularizer=l1(wr5), activity_regularizer=activity_l1(wr5), init='lecun_uniform'))\n",
    "    #model.add(MaxPooling2D((2, 2), strides=(2, 2), dim_ordering='tf'))\n",
    "    model.add(Dropout(0.95))\n",
    "    \"\"\"\n",
    "    \n",
    "    model.add(Flatten())\n",
    "\n",
    "    #model.add(Dense(8, activation=activation, W_regularizer=l2(wr4), init='lecun_uniform'))\n",
    "    #model.add(Dropout(0.5))\n",
    "    #model.add(Dense(256, activation=activation, W_regularizer=l2(wr4), init='lecun_uniform'))\n",
    "    #model.add(Dropout(0.5))\n",
    "    #model.add(Dense(128, activation=activation, W_regularizer=l2(wr5), init='lecun_uniform'))\n",
    "    #model.add(Dropout(0.5))\n",
    "    #model.add(Dense(128, activation=activation, W_regularizer=l2(wr5), init='lecun_uniform'))\n",
    "    #model.add(Dropout(0.5))\n",
    "  \n",
    "    model.add(Dense(3, activation='softmax'))\n",
    "\n",
    "    sgd = SGD(lr=1e-4, momentum=0.9, clipvalue=0.5, nesterov=True)\n",
    "    adam = Adam(lr=1e-4)\n",
    "    nadam = Nadam(lr=1e-2)\n",
    "    adagrad = Adagrad(lr=1e-2)\n",
    "    adamax = Adamax(lr=1e-1)\n",
    "    adadelta = Adadelta(lr=10)\n",
    "\n",
    "    model.compile(optimizer='sgd', loss='categorical_crossentropy', metrics=['accuracy'])\n",
    "    \n",
    "    model.summary()\n",
    "    \n",
    "    model_result = model.fit(train_data, train_target, \n",
    "             nb_epoch=100, \n",
    "             validation_split=0.5, \n",
    "             shuffle=True, \n",
    "             batch_size=32,\n",
    "             class_weight = 'auto',\n",
    "             callbacks=[early_stopping, checkpointer], verbose=1)\n",
    "\n",
    "    return model_result\n"
   ]
  }
 ],
 "metadata": {
  "kernelspec": {
   "display_name": "Python 2",
   "language": "python",
   "name": "python2"
  },
  "language_info": {
   "codemirror_mode": {
    "name": "ipython",
    "version": 2
   },
   "file_extension": ".py",
   "mimetype": "text/x-python",
   "name": "python",
   "nbconvert_exporter": "python",
   "pygments_lexer": "ipython2",
   "version": "2.7.13"
  }
 },
 "nbformat": 4,
 "nbformat_minor": 2
}
